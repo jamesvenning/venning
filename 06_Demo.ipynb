{
 "cells": [
  {
   "cell_type": "code",
   "execution_count": 14,
   "metadata": {
    "collapsed": true
   },
   "outputs": [],
   "source": [
    "import numpy as np"
   ]
  },
  {
   "cell_type": "code",
   "execution_count": 15,
   "metadata": {
    "collapsed": false
   },
   "outputs": [
    {
     "name": "stdout",
     "output_type": "stream",
     "text": [
      "total 241680\r\n",
      "-rwxrwxr-x 1 james james    756276 Jun 15 11:25 01_Primer.ipynb\r\n",
      "-rwxrwxr-x 1 james james    356758 Jun 12 15:40 02_Demo.ipynb\r\n",
      "-rwxrwxr-x 1 james james   1968746 Jun 15 10:57 03_ImageAnalysis.ipynb\r\n",
      "-rwxrwxr-x 1 james james    150970 Jun 12 15:49 04_SignalAnalysis.ipynb\r\n",
      "-rwxrwxr-x 1 james james   1317563 Jun 15 11:01 05_PIV.ipynb\r\n",
      "-rwxrwxr-x 1 james james      2975 Jun 15 11:34 06_Demo.ipynb\r\n",
      "-rwxrwxr-x 1 james james    123029 Jun 13 10:40 07_POD.ipynb\r\n",
      "-rwxrwxr-x 1 james james    660714 Dec 11  2012 bocce.jpg\r\n",
      "drwxrwxr-x 4 james james     16384 Jun 13 11:10 Card\r\n",
      "-rwxrwxr-x 1 james james 230256089 Jun 13 10:39 card.piv\r\n",
      "-rwxrwxr-x 1 james james   9773409 Jun 12 10:14 cgv.JPG\r\n",
      "-rwxrwxr-x 1 james james    784753 Jun 12 10:11 lawnbowls.png\r\n",
      "-rwxrwxr-x 1 james james      2080 Jun 11 10:47 mycert.pem\r\n",
      "-rwxrwxr-x 1 james james       601 Jun 10 20:48 output_toggle.tpl\r\n",
      "-rwxrwxr-x 1 james james    181393 Oct  8  2013 petanque.jpg\r\n",
      "-rwxrwxr-x 1 james james     62738 Jun 15 11:17 PlotStyles.ipynb\r\n",
      "-rwxrwxr-x 1 james james    915956 Jun 13 11:13 Untitled.ipynb\r\n"
     ]
    }
   ],
   "source": [
    "! ls -l"
   ]
  },
  {
   "cell_type": "code",
   "execution_count": 20,
   "metadata": {
    "collapsed": false
   },
   "outputs": [
    {
     "name": "stdout",
     "output_type": "stream",
     "text": [
      "[19 18 17 16 15 14 13 12 11 10  9  8  7  6  5  4  3  2  1  0]\n"
     ]
    }
   ],
   "source": [
    "# Indexing\n",
    "# - negative indexing\n",
    "# - slices\n",
    "\n",
    "x = np.arange(20)\n",
    "print(x[::-1])"
   ]
  },
  {
   "cell_type": "code",
   "execution_count": 21,
   "metadata": {
    "collapsed": false
   },
   "outputs": [
    {
     "name": "stdout",
     "output_type": "stream",
     "text": [
      "2\n"
     ]
    }
   ],
   "source": [
    "# Unpacking\n",
    "a,b,c = [1,2,3]\n",
    "print(b)"
   ]
  },
  {
   "cell_type": "code",
   "execution_count": 22,
   "metadata": {
    "collapsed": false
   },
   "outputs": [
    {
     "name": "stdout",
     "output_type": "stream",
     "text": [
      "1 2\n"
     ]
    }
   ],
   "source": [
    "# Swapping\n",
    "b,a = a,b\n",
    "print(b,a)"
   ]
  }
 ],
 "metadata": {
  "kernelspec": {
   "display_name": "Python 3",
   "language": "python",
   "name": "python3"
  },
  "language_info": {
   "codemirror_mode": {
    "name": "ipython",
    "version": 3
   },
   "file_extension": ".py",
   "mimetype": "text/x-python",
   "name": "python",
   "nbconvert_exporter": "python",
   "pygments_lexer": "ipython3",
   "version": "3.4.3"
  }
 },
 "nbformat": 4,
 "nbformat_minor": 0
}
